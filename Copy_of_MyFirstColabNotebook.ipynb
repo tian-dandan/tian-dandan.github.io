{
  "nbformat": 4,
  "nbformat_minor": 0,
  "metadata": {
    "colab": {
      "name": "Copy of MyFirstColabNotebook.ipynb",
      "provenance": [],
      "authorship_tag": "ABX9TyPfG6X5G3lhiPbVja8xdEyg",
      "include_colab_link": true
    },
    "kernelspec": {
      "name": "python3",
      "display_name": "Python 3"
    }
  },
  "cells": [
    {
      "cell_type": "markdown",
      "metadata": {
        "id": "view-in-github",
        "colab_type": "text"
      },
      "source": [
        "<a href=\"https://colab.research.google.com/github/tian-dandan/tian-dandan.github.io/blob/master/Copy_of_MyFirstColabNotebook.ipynb\" target=\"_parent\"><img src=\"https://colab.research.google.com/assets/colab-badge.svg\" alt=\"Open In Colab\"/></a>"
      ]
    },
    {
      "cell_type": "code",
      "metadata": {
        "id": "mRLZapLNTJLh",
        "colab_type": "code",
        "colab": {
          "base_uri": "https://localhost:8080/",
          "height": 34
        },
        "outputId": "254d8c4f-3af4-473f-f859-2a7b1db8b73f"
      },
      "source": [
        "import time\n",
        "print(time.ctime())"
      ],
      "execution_count": null,
      "outputs": [
        {
          "output_type": "stream",
          "text": [
            "Tue Aug 25 20:35:12 2020\n"
          ],
          "name": "stdout"
        }
      ]
    },
    {
      "cell_type": "code",
      "metadata": {
        "id": "psYaFqSHTuoV",
        "colab_type": "code",
        "colab": {
          "base_uri": "https://localhost:8080/",
          "height": 34
        },
        "outputId": "dd3df087-0674-4eda-fca0-f7e70561315d"
      },
      "source": [
        "time.sleep(5)\n",
        "print (time.ctime())"
      ],
      "execution_count": null,
      "outputs": [
        {
          "output_type": "stream",
          "text": [
            "Tue Aug 25 20:35:17 2020\n"
          ],
          "name": "stdout"
        }
      ]
    },
    {
      "cell_type": "markdown",
      "metadata": {
        "id": "JCeAKJizWws9",
        "colab_type": "text"
      },
      "source": [
        "This is **bold**.\n",
        "This is *italic*.\n",
        "This is ~strikethrough~."
      ]
    },
    {
      "cell_type": "markdown",
      "metadata": {
        "id": "o_UzWTynW-y8",
        "colab_type": "text"
      },
      "source": [
        "$$\\sqrt{3x-1}+(1+x)^2$$"
      ]
    },
    {
      "cell_type": "markdown",
      "metadata": {
        "id": "tWLRxCBoXQ7D",
        "colab_type": "text"
      },
      "source": [
        "$e^x = \\sum_{i=0}^\\infty \\frac{1}{i!}x^i$"
      ]
    },
    {
      "cell_type": "markdown",
      "metadata": {
        "id": "ZkbMX2DqX1Z9",
        "colab_type": "text"
      },
      "source": [
        "Constrains are\n",
        "  - $3x_1 + 6x_2 + x_3 =< 28$\n",
        "  - $7x_1 +3x_2 + 2x_3 =< 37$\n",
        "  - $4x_1 + 5x_2 +2x_3 =< 19$\n",
        "  - $x_1,x_2,x_3 >=0$\n",
        "\n",
        "The trial vector is calculated as follows:\n",
        "  - $u_i(t) = x_i(t) + \\beta(\\hat{x}(t) - x_i(t)) + \\beta \\sum_{k = 1}^{n_v}(x_{i1,k}(t) - x_{i2,k}(t))$\n",
        "\n",
        "$f(x_1, x_2) = 20 + e - 20exp(-0.2 \\sqrt {\\frac {1}{n} (x_1^2 + x_2^2)}) - exp (\\frac {1}{n}(cos(2\\pi x_1) + cos(2\\pi x_2))$\n",
        "\n",
        "$x \\in [-5, 5]$\n",
        ">$A_{m,n} =\n",
        "    \\begin{pmatrix}\n",
        "    a_{1,1} > a_{1,2} > \\cdots > a_{1,n} \\\\\n",
        "    a_{2,1} > a_{2,2} > \\cdots > a_{2,n} \\\\\n",
        "    \\vdots > \\vdots > \\ddots > \\vdots \\\\\n",
        "    a_{m,1} > a_{m,2} > \\cdots > a_{m,n}\n",
        "   \\end{pmatrix}$ \n"
      ]
    }
  ]
}